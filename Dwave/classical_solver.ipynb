{
 "cells": [
  {
   "cell_type": "code",
   "execution_count": 7,
   "outputs": [
    {
     "name": "stdout",
     "output_type": "stream",
     "text": [
      "[(0, 0, 0), (1, 0, 0), (0, 0, 1), (0, 1, 0), (1, 0, 1), (1, 1, 0), (0, 1, 1), (1, 1, 1)]\n"
     ]
    }
   ],
   "source": [
    "from itertools import permutations\n",
    "from typing import List, Tuple\n",
    "\n",
    "n = 3\n",
    "\n",
    "def get_partitions(size: int) -> List[Tuple[int, ...]]:\n",
    "    \"\"\"\n",
    "    :param size: number of nodes in graph.\n",
    "    :return: all possible bipartite partitions.\n",
    "    \"\"\"\n",
    "    all_partitions = []\n",
    "    for i in range(n+1):\n",
    "        current_partition = set(list(permutations([1 for j in range(i)]+[0 for k in range(n-i)])))\n",
    "        all_partitions.extend(current_partition)\n",
    "    return all_partitions\n",
    "\n"
   ],
   "metadata": {
    "collapsed": false,
    "pycharm": {
     "name": "#%%\n"
    }
   }
  },
  {
   "cell_type": "code",
   "execution_count": null,
   "outputs": [],
   "source": [],
   "metadata": {
    "collapsed": false,
    "pycharm": {
     "name": "#%%\n"
    }
   }
  }
 ],
 "metadata": {
  "kernelspec": {
   "display_name": "Python 3",
   "language": "python",
   "name": "python3"
  },
  "language_info": {
   "codemirror_mode": {
    "name": "ipython",
    "version": 2
   },
   "file_extension": ".py",
   "mimetype": "text/x-python",
   "name": "python",
   "nbconvert_exporter": "python",
   "pygments_lexer": "ipython2",
   "version": "2.7.6"
  }
 },
 "nbformat": 4,
 "nbformat_minor": 0
}