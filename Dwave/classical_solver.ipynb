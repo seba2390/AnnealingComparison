{
 "cells": [
  {
   "cell_type": "code",
   "execution_count": 22,
   "outputs": [],
   "source": [
    "from itertools import permutations\n",
    "from typing import List, Tuple\n",
    "\n",
    "n = 3\n",
    "\n",
    "def get_partitions(size: int) -> List[Tuple[int, ...]]:\n",
    "    \"\"\"\n",
    "    N.B - shouldn't be used for size >= 10 (becomes slow).\n",
    "\n",
    "    :param size: number of nodes in graph.\n",
    "    :return: all possible bipartite partitions.\n",
    "    \"\"\"\n",
    "    all_partitions = []\n",
    "    for i in range(size+1):\n",
    "        current_partition = set(list(permutations([1 for j in range(i)]+[0 for k in range(size-i)])))\n",
    "        all_partitions.extend(current_partition)\n",
    "    return all_partitions\n",
    "\n"
   ],
   "metadata": {
    "collapsed": false,
    "pycharm": {
     "name": "#%%\n"
    }
   }
  },
  {
   "cell_type": "code",
   "execution_count": 23,
   "outputs": [
    {
     "data": {
      "text/plain": "[(0, 0, 0, 0, 0),\n (0, 0, 1, 0, 0),\n (0, 0, 0, 0, 1),\n (0, 1, 0, 0, 0),\n (0, 0, 0, 1, 0),\n (1, 0, 0, 0, 0),\n (1, 0, 1, 0, 0),\n (1, 1, 0, 0, 0),\n (0, 0, 1, 0, 1),\n (0, 1, 0, 0, 1),\n (1, 0, 0, 0, 1),\n (0, 0, 1, 1, 0),\n (0, 0, 0, 1, 1),\n (0, 1, 0, 1, 0),\n (0, 1, 1, 0, 0),\n (1, 0, 0, 1, 0),\n (0, 1, 0, 1, 1),\n (1, 1, 1, 0, 0),\n (0, 0, 1, 1, 1),\n (1, 0, 0, 1, 1),\n (1, 0, 1, 1, 0),\n (0, 1, 1, 0, 1),\n (1, 1, 0, 1, 0),\n (1, 0, 1, 0, 1),\n (1, 1, 0, 0, 1),\n (0, 1, 1, 1, 0),\n (1, 0, 1, 1, 1),\n (1, 1, 1, 1, 0),\n (1, 1, 0, 1, 1),\n (0, 1, 1, 1, 1),\n (1, 1, 1, 0, 1),\n (1, 1, 1, 1, 1)]"
     },
     "execution_count": 23,
     "metadata": {},
     "output_type": "execute_result"
    }
   ],
   "source": [
    "get_partitions(5)"
   ],
   "metadata": {
    "collapsed": false,
    "pycharm": {
     "name": "#%%\n"
    }
   }
  },
  {
   "cell_type": "code",
   "execution_count": null,
   "outputs": [],
   "source": [],
   "metadata": {
    "collapsed": false,
    "pycharm": {
     "name": "#%%\n"
    }
   }
  }
 ],
 "metadata": {
  "kernelspec": {
   "display_name": "Python 3",
   "language": "python",
   "name": "python3"
  },
  "language_info": {
   "codemirror_mode": {
    "name": "ipython",
    "version": 2
   },
   "file_extension": ".py",
   "mimetype": "text/x-python",
   "name": "python",
   "nbconvert_exporter": "python",
   "pygments_lexer": "ipython2",
   "version": "2.7.6"
  }
 },
 "nbformat": 4,
 "nbformat_minor": 0
}