{
 "cells": [
  {
   "cell_type": "code",
   "execution_count": 14,
   "metadata": {
    "collapsed": true,
    "pycharm": {
     "name": "#%%\n"
    }
   },
   "outputs": [
    {
     "data": {
      "text/plain": "<Figure size 640x480 with 1 Axes>",
      "image/png": "[encoded data removed]"
     },
     "metadata": {},
     "output_type": "display_data"
    }
   ],
   "source": [
    "from collections import defaultdict\n",
    "from typing import List, Tuple, Union\n",
    "\n",
    "from dwave.system.samplers import DWaveSampler\n",
    "from dwave.system.composites import EmbeddingComposite\n",
    "\n",
    "import matplotlib.pyplot as plt\n",
    "\n",
    "import networkx as nx\n",
    "\n",
    "import numpy as np\n",
    "\n",
    "# Generating a graph of 4 nodes\n",
    "\n",
    "n = 4  # Number of nodes in graph\n",
    "G = nx.Graph()\n",
    "G.add_nodes_from(np.arange(0, n, 1))\n",
    "\n",
    "weights   = [1.0, 0.8, 0.4, 0.6, 0.7]\n",
    "edge_list = [(0, 1, weights[0]),\n",
    "             (0, 2, weights[1]),\n",
    "             (0, 3, weights[2]),\n",
    "             (1, 2, weights[3])]\n",
    "\n",
    "# tuple is (i,j,weight) where (i,j) is the edge\n",
    "G.add_weighted_edges_from(edge_list)\n",
    "\n",
    "colors = [\"r\" for node in G.nodes()]\n",
    "pos = nx.spring_layout(G)\n",
    "\n",
    "\n",
    "def draw_graph(G, colors, pos):\n",
    "    default_axes = plt.axes(frameon=True)\n",
    "    nx.draw_networkx(G, node_color=colors, node_size=600, alpha=0.8, ax=default_axes, pos=pos)\n",
    "    edge_labels = nx.get_edge_attributes(G, \"weight\")\n",
    "    nx.draw_networkx_edge_labels(G, pos=pos, edge_labels=edge_labels)\n",
    "\n",
    "\n",
    "DISPLAY_GRAPH = True\n",
    "if DISPLAY_GRAPH:\n",
    "    draw_graph(G, colors, pos)\n",
    "    plt.show()\n",
    "\n"
   ]
  },
  {
   "cell_type": "code",
   "execution_count": 15,
   "outputs": [],
   "source": [
    "def generate_Q(size: int, edges: List[Tuple[int, int, float]]) -> np.ndarray:\n",
    "    \"\"\"\n",
    "    :param size: number of nodes in graph.\n",
    "    :param edges: list of edges w. corresponding weight.\n",
    "    :return: connectivity matrix of QUBO model, i.e. Q in x^TQx.\n",
    "    \"\"\"\n",
    "    _Q = np.zeros(shape=(size, size), dtype=float)\n",
    "    for _edge in edges:\n",
    "        _i, _j, _w = _edge\n",
    "        _Q[_i, _j] = _w\n",
    "    return _Q"
   ],
   "metadata": {
    "collapsed": false,
    "pycharm": {
     "name": "#%%\n"
    }
   }
  },
  {
   "cell_type": "code",
   "execution_count": 18,
   "outputs": [],
   "source": [
    "# ------- Set up our QUBO dictionary -------\n",
    "# Get matrix from graph\n",
    "init_Q = generate_Q(size=n, edges=edge_list)\n",
    "\n",
    "# Initialize our Q matrix\n",
    "Q = defaultdict(int)\n",
    "\n",
    "# Update Q dictionary\n",
    "for i in range(init_Q.shape[0]):\n",
    "    for j in range(init_Q.shape[1]):\n",
    "        Q[(i,j)]+= init_Q[i,j]\n",
    "\n",
    "# ------- Run our QUBO on the QPU -------\n",
    "# Set up QPU parameters\n",
    "chainstrength = 80\n",
    "numruns = 10\n",
    "\n",
    "# Run the QUBO on the solver from your config file\n",
    "sampler = EmbeddingComposite(DWaveSampler())\n",
    "response = sampler.sample_qubo(Q,\n",
    "                               chain_strength=chainstrength,\n",
    "                               num_reads=numruns,\n",
    "                               label='Example - Maximum Cut')\n"
   ],
   "metadata": {
    "collapsed": false,
    "pycharm": {
     "name": "#%%\n"
    }
   }
  },
  {
   "cell_type": "code",
   "execution_count": 20,
   "outputs": [
    {
     "data": {
      "text/plain": "SampleSet(rec.array([([0, 0, 1, 0], 0., 3, 0.), ([1, 0, 0, 0], 0., 1, 0.),\n           ([0, 0, 0, 1], 0., 1, 0.), ([0, 1, 0, 1], 0., 2, 0.),\n           ([0, 1, 0, 0], 0., 1, 0.), ([0, 0, 0, 0], 0., 2, 0.)],\n          dtype=[('sample', 'i1', (4,)), ('energy', '<f8'), ('num_occurrences', '<i8'), ('chain_break_fraction', '<f8')]), Variables([0, 1, 2, 3]), {'timing': {'qpu_sampling_time': 992.8, 'qpu_anneal_time_per_sample': 20.0, 'qpu_readout_time_per_sample': 58.74, 'qpu_access_time': 16748.77, 'qpu_access_overhead_time': 1877.23, 'qpu_programming_time': 15755.97, 'qpu_delay_time_per_sample': 20.54, 'total_post_processing_time': 211.0, 'post_processing_overhead_time': 211.0}, 'problem_id': '292ab9b3-7c6c-47e8-953a-f583349a7073', 'problem_label': 'Example - Maximum Cut'}, 'BINARY')"
     },
     "execution_count": 20,
     "metadata": {},
     "output_type": "execute_result"
    }
   ],
   "source": [
    "response"
   ],
   "metadata": {
    "collapsed": false,
    "pycharm": {
     "name": "#%%\n"
    }
   }
  },
  {
   "cell_type": "code",
   "execution_count": 19,
   "outputs": [
    {
     "name": "stdout",
     "output_type": "stream",
     "text": [
      "-------------\n",
      "Initial matrix:\n",
      "-------------\n",
      "[[0.  1.  0.8 0.4]\n",
      " [0.  0.  0.6 0. ]\n",
      " [0.  0.  0.  0. ]\n",
      " [0.  0.  0.  0. ]]\n",
      "\n",
      "-----------------------------------\n",
      "######## ANNEALING RESULTS ########\n",
      "--------------------\n",
      "State:       Energy:\n",
      "--------------------\n",
      "|0010>       0.0\n",
      "|1000>       0.0\n",
      "|0001>       0.0\n",
      "|0101>       0.0\n",
      "|0100>       0.0\n",
      "|0000>       0.0\n",
      "-------------------------------------------------------\n",
      "With lowest energy state corresponding to alignement:\n",
      "-------------------------------------------------------\n",
      "[0, 0, 1, 0]\n"
     ]
    }
   ],
   "source": [
    "# ------- Print results to user -------\n",
    "print('-' * 13)\n",
    "print(\"Initial matrix:\")\n",
    "print('-' * 13)\n",
    "print(f\"{init_Q}\\n\")\n",
    "print('-' * 35)\n",
    "\n",
    "print(\"#\"*8+\" ANNEALING RESULTS \"+\"#\"*8)\n",
    "print('-' * int(n+16))\n",
    "print(\" \"*int(n/2-3)+\"State:\"+\" \"*int(n/2-3)+\" \"*7+\"Energy:\")\n",
    "print('-' * int(n+16))\n",
    "for sample, E in response.data(fields=['sample','energy']):\n",
    "    state = \"|\"\n",
    "    for k,v in sample.items():\n",
    "        state += str(v)\n",
    "    state += \">\"\n",
    "    print(str(state)+\" \"*7+str(E))\n",
    "print('-' * 55)\n",
    "print(\"With lowest energy state corresponding to alignement:\")\n",
    "print('-' * 55)\n",
    "best_state = []\n",
    "for val in list(response.first.sample.values()):\n",
    "    best_state.append(val)\n",
    "print(best_state)"
   ],
   "metadata": {
    "collapsed": false,
    "pycharm": {
     "name": "#%%\n"
    }
   }
  },
  {
   "cell_type": "code",
   "execution_count": null,
   "outputs": [],
   "source": [],
   "metadata": {
    "collapsed": false,
    "pycharm": {
     "name": "#%%\n"
    }
   }
  }
 ],
 "metadata": {
  "kernelspec": {
   "display_name": "Python 3",
   "language": "python",
   "name": "python3"
  },
  "language_info": {
   "codemirror_mode": {
    "name": "ipython",
    "version": 2
   },
   "file_extension": ".py",
   "mimetype": "text/x-python",
   "name": "python",
   "nbconvert_exporter": "python",
   "pygments_lexer": "ipython2",
   "version": "2.7.6"
  }
 },
 "nbformat": 4,
 "nbformat_minor": 0
}